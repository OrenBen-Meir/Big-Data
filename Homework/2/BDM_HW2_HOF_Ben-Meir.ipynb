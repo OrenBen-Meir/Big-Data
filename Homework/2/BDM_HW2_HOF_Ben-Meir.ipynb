{
 "cells": [
  {
   "cell_type": "markdown",
   "metadata": {},
   "source": [
    "# Homework 2 - Higher Order Functions (15 pts)\n",
    "\n",
    "Please turn in your note book naming as *BDM\\_HW2\\_HOF_LastName.ipynb*."
   ]
  },
  {
   "cell_type": "markdown",
   "metadata": {},
   "source": [
    "\n",
    "## Task 1 (2 points)\n",
    "\n",
    "Please complete the **lambda f1** definition below by filling in the _________ part. **f1** is expected to take a single string argument and returns whether the string can be converted to a natural number or zero. If it's possible, returns **'Number'**, otherwise returns **'Not a number'**. For example *'0123'* is a valid number 'Number', whereas *'0xff'* is not."
   ]
  },
  {
   "cell_type": "code",
   "execution_count": 1,
   "metadata": {
    "tags": []
   },
   "outputs": [
    {
     "name": "stdout",
     "output_type": "stream",
     "text": [
      "False\n",
      "True\n",
      "False\n"
     ]
    }
   ],
   "source": [
    "f1 = lambda x: x.isdigit()\n",
    "print(f1('1A'))\n",
    "print(f1('12'))\n",
    "print(f1('b1'))"
   ]
  },
  {
   "cell_type": "markdown",
   "metadata": {},
   "source": [
    "\n",
    "## Task 2 (2 points)\n",
    "\n",
    "Please complete the **lambda f2** definition below by filling in the _________ part. **f2** takes a single iterable (e.g. a list or a string), and returns the number of unique elements. Please see the sample output below."
   ]
  },
  {
   "cell_type": "code",
   "execution_count": 2,
   "metadata": {
    "tags": []
   },
   "outputs": [
    {
     "name": "stdout",
     "output_type": "stream",
     "text": [
      "7\n",
      "11\n"
     ]
    }
   ],
   "source": [
    "f2 = lambda x: len(x)\n",
    "print(f2([1,2,3,4,1,5,2]))\n",
    "print(f2('hello world'))"
   ]
  },
  {
   "cell_type": "markdown",
   "metadata": {},
   "source": [
    "\n",
    "## Task 3 (2 points)\n",
    "\n",
    "Please complete the **lambda f3** definition below by filling in the _________ part. **f3** takes two strings *x* and *y*, and return all the words in *x* that do not appear in *y*. Please note that the word comparison iscase insensitive. Samples area also provided below."
   ]
  },
  {
   "cell_type": "code",
   "execution_count": 3,
   "metadata": {
    "tags": []
   },
   "outputs": [
    {
     "name": "stdout",
     "output_type": "stream",
     "text": [
      "['management', 'and', 'analysis']\n",
      "['a']\n"
     ]
    }
   ],
   "source": [
    "f3 = lambda x, y: list(filter(lambda w: w not in y.split(' '), x.split(' ')))\n",
    "print(f3('big data management and analysis', 'big data computing'))\n",
    "print(f3('this is a phrase', 'this is another phrase'))"
   ]
  },
  {
   "cell_type": "markdown",
   "metadata": {},
   "source": [
    "\n",
    "## Task 4 (9 points)\n",
    "\n",
    "Please complete Homework 1 using only high order functions. \n",
    "You will need access to the **sale.csv** data set from Homework 1, or you can download them from Blackboard (under *Data Sets*).\n",
    "\n",
    "Your solution must take a single *sales* variable as the input and transform through a series of **map()**, **filter()**, **sorted()**, and/or **reduce()** transformation. You can write helper functions to be used with HOF but you **cannot make access to global variables**."
   ]
  },
  {
   "cell_type": "code",
   "execution_count": 4,
   "metadata": {
    "colab": {},
    "colab_type": "code",
    "id": "Ey9rh-w56CuZ",
    "outputId": "416754af-d882-429f-859f-2cf659bd33ad",
    "scrolled": true,
    "tags": []
   },
   "outputs": [],
   "source": [
    "import csv\n",
    "from functools import reduce\n",
    "\n",
    "sales = list(map(lambda x: dict(x), csv.DictReader(open('sale.csv', 'r'))))\n",
    "\n"
   ]
  },
  {
   "cell_type": "code",
   "execution_count": 5,
   "metadata": {
    "colab": {},
    "colab_type": "code",
    "id": "QK54BdPw6Cuf",
    "outputId": "b1a9546b-c66f-4b4b-e4bf-b25987c8a666",
    "tags": []
   },
   "outputs": [
    {
     "data": {
      "text/plain": [
       "[{'Product ID': 'P04501', 'Customer Count': 18, 'Total Revenue': 1139.03},\n",
       " {'Product ID': 'P08719', 'Customer Count': 16, 'Total Revenue': 1275.99},\n",
       " {'Product ID': 'P14419', 'Customer Count': 16, 'Total Revenue': 990.02},\n",
       " {'Product ID': 'P20036', 'Customer Count': 16, 'Total Revenue': 1250.92},\n",
       " {'Product ID': 'P41420', 'Customer Count': 19, 'Total Revenue': 1298.79},\n",
       " {'Product ID': 'P55500', 'Customer Count': 17, 'Total Revenue': 949.11},\n",
       " {'Product ID': 'P56063', 'Customer Count': 17, 'Total Revenue': 1142.93},\n",
       " {'Product ID': 'P58928', 'Customer Count': 17, 'Total Revenue': 971.11},\n",
       " {'Product ID': 'P86411', 'Customer Count': 17, 'Total Revenue': 870.12},\n",
       " {'Product ID': 'P99613', 'Customer Count': 15, 'Total Revenue': 1128.98}]"
      ]
     },
     "execution_count": 5,
     "metadata": {},
     "output_type": "execute_result"
    }
   ],
   "source": [
    "from typing import Optional, Dict\n",
    "from decimal import Decimal\n",
    "\n",
    "class SaleData: # I prefer objects over dictionaries as it makes it easier to take advantage of intellisense in ides\n",
    "    def __init__(self, data: dict):\n",
    "        self.customer_id = int(data[\"Customer ID\"])\n",
    "        self.product_id: str = data[\"Product ID\"]\n",
    "        self.item_cost: Decimal = Decimal(data[\"Item Cost\"])\n",
    "\n",
    "class SalesSummary:\n",
    "    def __init__(self, total_revenue: Decimal = Decimal(0), customer_count: int = 0, last_recorded_cutomer: Optional[str] = None):\n",
    "        self.total_revenue = total_revenue\n",
    "        self.customer_count = customer_count\n",
    "        self.last_recorded_cutomer = last_recorded_cutomer\n",
    "    \n",
    "    def update_with_sorted_customer(self, sale_data: SaleData):\n",
    "        if self.last_recorded_cutomer != sale_data.customer_id:\n",
    "            self.last_recorded_cutomer = sale_data.customer_id\n",
    "            self.customer_count += 1\n",
    "        self.total_revenue += sale_data.item_cost\n",
    "        \n",
    "    def dict_with_product_id(self, product_id: str):\n",
    "        return {\n",
    "            \"Product ID\": product_id,\n",
    "            \"Customer Count\": self.customer_count,\n",
    "            \"Total Revenue\": float(self.total_revenue)\n",
    "        }\n",
    "    \n",
    "def insert_into_product_sales_summaries(product_sales_summaries: Dict[str, SalesSummary], data: SaleData):\n",
    "    if data.product_id in product_sales_summaries:\n",
    "        product_sales_summaries[data.product_id].update_with_sorted_customer(data)\n",
    "    else:\n",
    "        product_sales_summaries[data.product_id] = SalesSummary(total_revenue=data.item_cost, customer_count=1, last_recorded_cutomer=data.customer_id)\n",
    "    return product_sales_summaries\n",
    "    \n",
    "def compare_product_ids(id_1, id_2):\n",
    "    if id_1 > id_2:\n",
    "        return 1\n",
    "    if id_1 < id_2:\n",
    "        return -1\n",
    "    else:\n",
    "        return 0\n",
    "\n",
    "output = list(map(\n",
    "    lambda x: x[1].dict_with_product_id(x[0]), \n",
    "    sorted(reduce(insert_into_product_sales_summaries, map(SaleData, sales), {}).items(), key=lambda x: x[0])\n",
    "))\n",
    "\n",
    "list(output)\n"
   ]
  }
 ],
 "metadata": {
  "colab": {
   "name": "HW_20_08_06.ipynb",
   "provenance": []
  },
  "kernelspec": {
   "display_name": "Python 3",
   "language": "python",
   "name": "python3"
  },
  "language_info": {
   "codemirror_mode": {
    "name": "ipython",
    "version": 3
   },
   "file_extension": ".py",
   "mimetype": "text/x-python",
   "name": "python",
   "nbconvert_exporter": "python",
   "pygments_lexer": "ipython3",
   "version": "3.8.5"
  }
 },
 "nbformat": 4,
 "nbformat_minor": 4
}
